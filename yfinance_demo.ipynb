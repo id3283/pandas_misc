{
 "cells": [
  {
   "cell_type": "code",
   "execution_count": 2,
   "id": "6904f655",
   "metadata": {},
   "outputs": [
    {
     "name": "stderr",
     "output_type": "stream",
     "text": [
      "[*********************100%***********************]  1 of 1 completed"
     ]
    },
    {
     "name": "stdout",
     "output_type": "stream",
     "text": [
      "Returned dataframe for AAPL (5d):\n",
      "Price            Close        High         Low        Open    Volume\n",
      "Ticker            AAPL        AAPL        AAPL        AAPL      AAPL\n",
      "Date                                                                \n",
      "2025-07-21  212.479996  215.779999  211.630005  212.100006  51377400\n",
      "2025-07-22  214.399994  214.949997  212.229996  213.139999  46404100\n",
      "2025-07-23  214.149994  215.149994  212.410004  215.000000  46989300\n",
      "2025-07-24  213.759995  215.690002  213.529999  213.899994  46022600\n",
      "2025-07-25  213.889893  215.240005  213.399994  214.699997  31618524\n",
      "yfinance appears to be working!\n"
     ]
    },
    {
     "name": "stderr",
     "output_type": "stream",
     "text": [
      "\n"
     ]
    },
    {
     "data": {
      "text/html": [
       "<div>\n",
       "<style scoped>\n",
       "    .dataframe tbody tr th:only-of-type {\n",
       "        vertical-align: middle;\n",
       "    }\n",
       "\n",
       "    .dataframe tbody tr th {\n",
       "        vertical-align: top;\n",
       "    }\n",
       "\n",
       "    .dataframe thead tr th {\n",
       "        text-align: left;\n",
       "    }\n",
       "\n",
       "    .dataframe thead tr:last-of-type th {\n",
       "        text-align: right;\n",
       "    }\n",
       "</style>\n",
       "<table border=\"1\" class=\"dataframe\">\n",
       "  <thead>\n",
       "    <tr>\n",
       "      <th>Price</th>\n",
       "      <th>Close</th>\n",
       "      <th>High</th>\n",
       "      <th>Low</th>\n",
       "      <th>Open</th>\n",
       "      <th>Volume</th>\n",
       "    </tr>\n",
       "    <tr>\n",
       "      <th>Ticker</th>\n",
       "      <th>AAPL</th>\n",
       "      <th>AAPL</th>\n",
       "      <th>AAPL</th>\n",
       "      <th>AAPL</th>\n",
       "      <th>AAPL</th>\n",
       "    </tr>\n",
       "    <tr>\n",
       "      <th>Date</th>\n",
       "      <th></th>\n",
       "      <th></th>\n",
       "      <th></th>\n",
       "      <th></th>\n",
       "      <th></th>\n",
       "    </tr>\n",
       "  </thead>\n",
       "  <tbody>\n",
       "    <tr>\n",
       "      <th>2025-07-21</th>\n",
       "      <td>212.479996</td>\n",
       "      <td>215.779999</td>\n",
       "      <td>211.630005</td>\n",
       "      <td>212.100006</td>\n",
       "      <td>51377400</td>\n",
       "    </tr>\n",
       "    <tr>\n",
       "      <th>2025-07-22</th>\n",
       "      <td>214.399994</td>\n",
       "      <td>214.949997</td>\n",
       "      <td>212.229996</td>\n",
       "      <td>213.139999</td>\n",
       "      <td>46404100</td>\n",
       "    </tr>\n",
       "    <tr>\n",
       "      <th>2025-07-23</th>\n",
       "      <td>214.149994</td>\n",
       "      <td>215.149994</td>\n",
       "      <td>212.410004</td>\n",
       "      <td>215.000000</td>\n",
       "      <td>46989300</td>\n",
       "    </tr>\n",
       "    <tr>\n",
       "      <th>2025-07-24</th>\n",
       "      <td>213.759995</td>\n",
       "      <td>215.690002</td>\n",
       "      <td>213.529999</td>\n",
       "      <td>213.899994</td>\n",
       "      <td>46022600</td>\n",
       "    </tr>\n",
       "    <tr>\n",
       "      <th>2025-07-25</th>\n",
       "      <td>213.889893</td>\n",
       "      <td>215.240005</td>\n",
       "      <td>213.399994</td>\n",
       "      <td>214.699997</td>\n",
       "      <td>31618524</td>\n",
       "    </tr>\n",
       "  </tbody>\n",
       "</table>\n",
       "</div>"
      ],
      "text/plain": [
       "Price            Close        High         Low        Open    Volume\n",
       "Ticker            AAPL        AAPL        AAPL        AAPL      AAPL\n",
       "Date                                                                \n",
       "2025-07-21  212.479996  215.779999  211.630005  212.100006  51377400\n",
       "2025-07-22  214.399994  214.949997  212.229996  213.139999  46404100\n",
       "2025-07-23  214.149994  215.149994  212.410004  215.000000  46989300\n",
       "2025-07-24  213.759995  215.690002  213.529999  213.899994  46022600\n",
       "2025-07-25  213.889893  215.240005  213.399994  214.699997  31618524"
      ]
     },
     "execution_count": 2,
     "metadata": {},
     "output_type": "execute_result"
    }
   ],
   "source": [
    "from typing import Optional\n",
    "import yfinance as yf\n",
    "import pandas as pd\n",
    "\n",
    "def test_yfinance_basic(ticker: str = 'AAPL', period: str = '5d') -> Optional[pd.DataFrame]:\n",
    "\n",
    "    df = yf.download(ticker, period=period, auto_adjust=True)\n",
    "    print(f'Returned dataframe for {ticker} ({period}):')\n",
    "    print(df)\n",
    "    if df.empty:\n",
    "        print('yfinance returned an empty DataFrame.')\n",
    "        return None\n",
    "    print('yfinance appears to be working!')\n",
    "    return df\n",
    "\n",
    "# Run test\n",
    "test_yfinance_basic()"
   ]
  },
  {
   "cell_type": "code",
   "execution_count": null,
   "id": "6c5d9996",
   "metadata": {},
   "outputs": [],
   "source": []
  }
 ],
 "metadata": {
  "kernelspec": {
   "display_name": "Python 3 (ipykernel)",
   "language": "python",
   "name": "python3"
  },
  "language_info": {
   "codemirror_mode": {
    "name": "ipython",
    "version": 3
   },
   "file_extension": ".py",
   "mimetype": "text/x-python",
   "name": "python",
   "nbconvert_exporter": "python",
   "pygments_lexer": "ipython3",
   "version": "3.13.5"
  }
 },
 "nbformat": 4,
 "nbformat_minor": 5
}
