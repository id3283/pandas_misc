{
 "cells": [
  {
   "cell_type": "code",
   "execution_count": 4,
   "id": "10344ea9",
   "metadata": {},
   "outputs": [
    {
     "name": "stdout",
     "output_type": "stream",
     "text": [
      "<class 'pandas.core.frame.DataFrame'>\n",
      "MultiIndex: 4 entries, ('North', 'A') to ('South', 'B')\n",
      "Data columns (total 1 columns):\n",
      " #   Column  Non-Null Count  Dtype\n",
      "---  ------  --------------  -----\n",
      " 0   Sales   4 non-null      int64\n",
      "dtypes: int64(1)\n",
      "memory usage: 383.0+ bytes\n",
      "None\n"
     ]
    }
   ],
   "source": [
    "import pandas as pd\n",
    "\n",
    "data = {'Region': ['North', 'North', 'South', 'South'],\n",
    "        'Product': ['A', 'B', 'A', 'B'],\n",
    "        'Sales': [100, 150, 200, 250]}\n",
    "df = pd.DataFrame(data)\n",
    "\n",
    "# Set 'Region' and 'Product' as the MultiIndex\n",
    "df_multi = df.set_index(['Region', 'Product'])\n",
    "print(df_multi.info())"
   ]
  },
  {
   "cell_type": "code",
   "execution_count": null,
   "id": "b50bae0b",
   "metadata": {},
   "outputs": [],
   "source": []
  }
 ],
 "metadata": {
  "kernelspec": {
   "display_name": "Materials",
   "language": "python",
   "name": "python3"
  },
  "language_info": {
   "codemirror_mode": {
    "name": "ipython",
    "version": 3
   },
   "file_extension": ".py",
   "mimetype": "text/x-python",
   "name": "python",
   "nbconvert_exporter": "python",
   "pygments_lexer": "ipython3",
   "version": "3.13.5"
  }
 },
 "nbformat": 4,
 "nbformat_minor": 5
}
