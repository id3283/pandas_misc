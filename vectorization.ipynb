{
 "cells": [
  {
   "cell_type": "code",
   "id": "3f528590-cd5c-487d-b0c1-c516922c93a9",
   "metadata": {},
   "source": [
    "import pandas as pd\n",
    "import numpy as np\n",
    "np.random.seed(42)\n",
    "df = pd.DataFrame({\n",
    "    'x': np.random.rand(1_000_000),\n",
    "    'y': np.random.rand(1_000_000)\n",
    "})"
   ],
   "outputs": [],
   "execution_count": null
  },
  {
   "cell_type": "code",
   "id": "e7591cfc",
   "metadata": {},
   "source": "print(df.head())",
   "outputs": [],
   "execution_count": null
  },
  {
   "cell_type": "code",
   "id": "f313c4a5-7851-4a23-9f3d-4536618514ee",
   "metadata": {},
   "source": [
    "%%timeit\n",
    "df['product'] = df['x'] * df['y']"
   ],
   "outputs": [],
   "execution_count": null
  },
  {
   "cell_type": "code",
   "id": "2147862b-7365-4d38-b98b-f9c575e81f49",
   "metadata": {},
   "source": [
    "%%timeit\n",
    "s = np.empty(1_000_000)\n",
    "for i, row in df.iterrows():\n",
    "    s[i] = row['x'] * row['y']\n"
   ],
   "outputs": [],
   "execution_count": null
  },
  {
   "cell_type": "code",
   "id": "eeaf75a2-ab9a-4db3-b1f8-24e0f192ab82",
   "metadata": {},
   "source": [],
   "outputs": [],
   "execution_count": null
  }
 ],
 "metadata": {
  "kernelspec": {
   "display_name": "demo",
   "language": "python",
   "name": "python3"
  },
  "language_info": {
   "codemirror_mode": {
    "name": "ipython",
    "version": 3
   },
   "file_extension": ".py",
   "mimetype": "text/x-python",
   "name": "python",
   "nbconvert_exporter": "python",
   "pygments_lexer": "ipython3",
   "version": "3.13.5"
  }
 },
 "nbformat": 4,
 "nbformat_minor": 5
}
