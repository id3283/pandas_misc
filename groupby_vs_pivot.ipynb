{
 "cells": [
  {
   "cell_type": "markdown",
   "id": "598260da",
   "metadata": {},
   "source": [
    "The fundamental difference between groupby and pivot_table lies in the shape of their output and the use cases this implies.  \n",
    "* Pivot table uses groupby and unstack under the covers.  \n",
    "* Prefer groupby when you're preparing data for further processing or plotting.\n",
    "* Use pivot tables for wide, human-friendly view of data."
   ]
  },
  {
   "cell_type": "code",
   "execution_count": 1,
   "id": "a660a4bc",
   "metadata": {},
   "outputs": [
    {
     "data": {
      "application/vnd.microsoft.datawrangler.viewer.v0+json": {
       "columns": [
        {
         "name": "index",
         "rawType": "int64",
         "type": "integer"
        },
        {
         "name": "Region",
         "rawType": "object",
         "type": "string"
        },
        {
         "name": "Product",
         "rawType": "object",
         "type": "string"
        },
        {
         "name": "Sales",
         "rawType": "int64",
         "type": "integer"
        }
       ],
       "ref": "1d74f649-b43d-412d-8515-16db23dae066",
       "rows": [
        [
         "0",
         "North",
         "A",
         "100"
        ],
        [
         "1",
         "South",
         "A",
         "150"
        ],
        [
         "2",
         "North",
         "B",
         "200"
        ],
        [
         "3",
         "South",
         "B",
         "250"
        ],
        [
         "4",
         "North",
         "A",
         "120"
        ],
        [
         "5",
         "South",
         "B",
         "300"
        ]
       ],
       "shape": {
        "columns": 3,
        "rows": 6
       }
      },
      "text/html": [
       "<div>\n",
       "<style scoped>\n",
       "    .dataframe tbody tr th:only-of-type {\n",
       "        vertical-align: middle;\n",
       "    }\n",
       "\n",
       "    .dataframe tbody tr th {\n",
       "        vertical-align: top;\n",
       "    }\n",
       "\n",
       "    .dataframe thead th {\n",
       "        text-align: right;\n",
       "    }\n",
       "</style>\n",
       "<table border=\"1\" class=\"dataframe\">\n",
       "  <thead>\n",
       "    <tr style=\"text-align: right;\">\n",
       "      <th></th>\n",
       "      <th>Region</th>\n",
       "      <th>Product</th>\n",
       "      <th>Sales</th>\n",
       "    </tr>\n",
       "  </thead>\n",
       "  <tbody>\n",
       "    <tr>\n",
       "      <th>0</th>\n",
       "      <td>North</td>\n",
       "      <td>A</td>\n",
       "      <td>100</td>\n",
       "    </tr>\n",
       "    <tr>\n",
       "      <th>1</th>\n",
       "      <td>South</td>\n",
       "      <td>A</td>\n",
       "      <td>150</td>\n",
       "    </tr>\n",
       "    <tr>\n",
       "      <th>2</th>\n",
       "      <td>North</td>\n",
       "      <td>B</td>\n",
       "      <td>200</td>\n",
       "    </tr>\n",
       "    <tr>\n",
       "      <th>3</th>\n",
       "      <td>South</td>\n",
       "      <td>B</td>\n",
       "      <td>250</td>\n",
       "    </tr>\n",
       "    <tr>\n",
       "      <th>4</th>\n",
       "      <td>North</td>\n",
       "      <td>A</td>\n",
       "      <td>120</td>\n",
       "    </tr>\n",
       "    <tr>\n",
       "      <th>5</th>\n",
       "      <td>South</td>\n",
       "      <td>B</td>\n",
       "      <td>300</td>\n",
       "    </tr>\n",
       "  </tbody>\n",
       "</table>\n",
       "</div>"
      ],
      "text/plain": [
       "  Region Product  Sales\n",
       "0  North       A    100\n",
       "1  South       A    150\n",
       "2  North       B    200\n",
       "3  South       B    250\n",
       "4  North       A    120\n",
       "5  South       B    300"
      ]
     },
     "execution_count": 1,
     "metadata": {},
     "output_type": "execute_result"
    }
   ],
   "source": [
    "import pandas as pd\n",
    "import numpy as np\n",
    "\n",
    "df = pd.DataFrame({\n",
    "    'Region': ['North', 'South', 'North', 'South', 'North', 'South'],\n",
    "    'Product': ['A', 'A', 'B', 'B', 'A', 'B'],\n",
    "    'Sales': [100, 150, 200, 250, 120, 300]\n",
    "})\n",
    "df"
   ]
  },
  {
   "cell_type": "code",
   "execution_count": 8,
   "id": "d5005d3b",
   "metadata": {},
   "outputs": [
    {
     "name": "stdout",
     "output_type": "stream",
     "text": [
      "Region  Product\n",
      "North   A          220\n",
      "        B          200\n",
      "South   A          150\n",
      "        B          550\n",
      "Name: Sales, dtype: int64\n"
     ]
    }
   ],
   "source": [
    "grouped = df.groupby(['Region', 'Product'])['Sales'].sum()\n",
    "print(grouped)\n"
   ]
  },
  {
   "cell_type": "code",
   "execution_count": null,
   "id": "60578827",
   "metadata": {},
   "outputs": [
    {
     "name": "stdout",
     "output_type": "stream",
     "text": [
      "Product    A    B\n",
      "Region           \n",
      "North    220  200\n",
      "South    150  550\n"
     ]
    }
   ],
   "source": [
    "pivoted = df.pivot_table(index='Region', columns='Product', values='Sales', aggfunc='sum')\n",
    "print(pivoted)"
   ]
  },
  {
   "cell_type": "code",
   "execution_count": 10,
   "id": "bf824b6b",
   "metadata": {},
   "outputs": [
    {
     "name": "stdout",
     "output_type": "stream",
     "text": [
      "Product    A    B   All\n",
      "Region                 \n",
      "North    220  200   420\n",
      "South    150  550   700\n",
      "All      370  750  1120\n"
     ]
    }
   ],
   "source": [
    "# With margins (totals)\n",
    "pivoted = df.pivot_table(index='Region', columns='Product', values='Sales', aggfunc='sum', margins=True)\n",
    "print(pivoted)"
   ]
  },
  {
   "cell_type": "markdown",
   "id": "6f2dd650",
   "metadata": {},
   "source": [
    "## Pandas: `groupby` vs. `pivot_table` - A Comprehensive Comparison\n",
    "\n",
    "In the popular Python data analysis library, pandas, both the `groupby` and `pivot_table` functions are powerful tools for data aggregation and summarization. While they can often achieve similar results, they are designed for different use cases and have distinct characteristics in terms of functionality, output shape, and performance. Understanding these differences is crucial for writing efficient and readable data analysis code.\n",
    "\n",
    "### Core Functionality and Output Shape\n",
    "\n",
    "The fundamental difference between `groupby` and `pivot_table` lies in the shape of their output.\n",
    "\n",
    "**`groupby`** is a versatile function that splits a DataFrame into groups based on one or more keys. It then allows you to apply a function (like an aggregation) to each group independently. The result of a `groupby` operation is typically a `DataFrameGroupBy` object, which can then be used with aggregation functions (e.g., `sum()`, `mean()`, `count()`) to produce a result that is in a \"long\" or \"stacked\" format. This means the grouping keys become part of the index.\n",
    "\n",
    "**`pivot_table`**, on the other hand, is specifically designed to create a \"wide\" or \"spreadsheet-style\" pivot table. It reshapes the data by using unique values from one column to form the new columns of the resulting DataFrame and unique values from another column to form the new rows (index).\n",
    "\n",
    "\n",
    "### Key Differences Summarized\n",
    "\n",
    "| Feature | `groupby` | `pivot_table` |\n",
    "|---|---|---|\n",
    "| **Output Shape** | Long/Stacked format (usually a Series or DataFrame with a MultiIndex). | Wide/Spreadsheet-style format (DataFrame). |\n",
    "| **Flexibility** | More flexible for complex operations beyond simple aggregation, like transformations and filtering within groups. | Primarily designed for reshaping and aggregation into a pivot table structure. |\n",
    "| **Syntax** | Groups by specified columns, then applies aggregations. | Specifies `index`, `columns`, `values`, and `aggfunc` to define the pivot table structure. |\n",
    "| **Handling Missing Values** | `NaN` values in grouping columns are excluded by default. | Offers a `fill_value` parameter to replace missing values in the output. |\n",
    "| **Margins/Totals** | Does not have a built-in feature for margins. | Includes a `margins` parameter to add row and column totals. |\n",
    "\n"
   ]
  }
 ],
 "metadata": {
  "kernelspec": {
   "display_name": "Python 3 (ipykernel)",
   "language": "python",
   "name": "python3"
  },
  "language_info": {
   "codemirror_mode": {
    "name": "ipython",
    "version": 3
   },
   "file_extension": ".py",
   "mimetype": "text/x-python",
   "name": "python",
   "nbconvert_exporter": "python",
   "pygments_lexer": "ipython3",
   "version": "3.13.5"
  }
 },
 "nbformat": 4,
 "nbformat_minor": 5
}
