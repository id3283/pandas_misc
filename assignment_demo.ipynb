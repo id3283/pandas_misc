{
 "cells": [
  {
   "cell_type": "code",
   "execution_count": 12,
   "id": "1b4c919b-da30-4dfa-9baf-231f774242bd",
   "metadata": {
    "ExecuteTime": {
     "end_time": "2025-07-24T17:27:24.484060Z",
     "start_time": "2025-07-24T17:27:24.313363Z"
    }
   },
   "outputs": [
    {
     "data": {
      "text/plain": [
       "2017-01-03    100\n",
       "2017-01-04    200\n",
       "2017-01-05    150\n",
       "Name: Volume, dtype: int64"
      ]
     },
     "metadata": {},
     "output_type": "display_data"
    }
   ],
   "source": [
    "import pandas as pd\n",
    "\n",
    "# IBM volume Series for 2017\n",
    "ibm_volume: pd.Series = pd.Series(\n",
    "    data=[100, 200, 150],\n",
    "    index=pd.to_datetime(['2017-01-03', '2017-01-04', '2017-01-05']),\n",
    "    name='Volume'\n",
    ")\n",
    "display(ibm_volume)"
   ]
  },
  {
   "cell_type": "code",
   "execution_count": 14,
   "id": "3db5c33b-2e8b-455a-afd8-15d89c519138",
   "metadata": {
    "ExecuteTime": {
     "end_time": "2025-07-24T17:27:24.484060Z",
     "start_time": "2025-07-24T17:27:24.313363Z"
    }
   },
   "outputs": [
    {
     "data": {
      "text/plain": [
       "2017-01-06    130\n",
       "2017-01-05    220\n",
       "2017-01-04    180\n",
       "Name: Volume, dtype: int64"
      ]
     },
     "metadata": {},
     "output_type": "display_data"
    }
   ],
   "source": [
    "# Google volume Series for 2017\n",
    "googl_volume: pd.Series = pd.Series(\n",
    "    data=[180, 220, 130],\n",
    "    index=pd.to_datetime(['2017-01-04', '2017-01-05', '2017-01-06']),\n",
    "    name='Volume'\n",
    ")\n",
    "googl_volume.sort_index(ascending=False, inplace=True)\n",
    "display(googl_volume)"
   ]
  },
  {
   "cell_type": "code",
   "execution_count": 16,
   "id": "865476c4-a6c0-40a2-9afe-1dadb4d5894d",
   "metadata": {
    "ExecuteTime": {
     "end_time": "2025-07-24T17:27:24.484060Z",
     "start_time": "2025-07-24T17:27:24.313363Z"
    }
   },
   "outputs": [
    {
     "data": {
      "text/html": [
       "<div>\n",
       "<style scoped>\n",
       "    .dataframe tbody tr th:only-of-type {\n",
       "        vertical-align: middle;\n",
       "    }\n",
       "\n",
       "    .dataframe tbody tr th {\n",
       "        vertical-align: top;\n",
       "    }\n",
       "\n",
       "    .dataframe thead th {\n",
       "        text-align: right;\n",
       "    }\n",
       "</style>\n",
       "<table border=\"1\" class=\"dataframe\">\n",
       "  <thead>\n",
       "    <tr style=\"text-align: right;\">\n",
       "      <th></th>\n",
       "      <th>IBM</th>\n",
       "    </tr>\n",
       "  </thead>\n",
       "  <tbody>\n",
       "    <tr>\n",
       "      <th>2017-01-03</th>\n",
       "      <td>100</td>\n",
       "    </tr>\n",
       "    <tr>\n",
       "      <th>2017-01-04</th>\n",
       "      <td>200</td>\n",
       "    </tr>\n",
       "    <tr>\n",
       "      <th>2017-01-05</th>\n",
       "      <td>150</td>\n",
       "    </tr>\n",
       "  </tbody>\n",
       "</table>\n",
       "</div>"
      ],
      "text/plain": [
       "            IBM\n",
       "2017-01-03  100\n",
       "2017-01-04  200\n",
       "2017-01-05  150"
      ]
     },
     "metadata": {},
     "output_type": "display_data"
    }
   ],
   "source": [
    "# New DataFrame; pandas will align by index automatically\n",
    "df_vol = pd.DataFrame()\n",
    "\n",
    "df_vol['IBM'] = ibm_volume\n",
    "display(df_vol)"
   ]
  },
  {
   "cell_type": "code",
   "execution_count": 17,
   "id": "18df98a7-19c9-4e57-97a9-5348a27010c6",
   "metadata": {
    "ExecuteTime": {
     "end_time": "2025-07-24T17:27:24.484060Z",
     "start_time": "2025-07-24T17:27:24.313363Z"
    }
   },
   "outputs": [
    {
     "data": {
      "text/html": [
       "<div>\n",
       "<style scoped>\n",
       "    .dataframe tbody tr th:only-of-type {\n",
       "        vertical-align: middle;\n",
       "    }\n",
       "\n",
       "    .dataframe tbody tr th {\n",
       "        vertical-align: top;\n",
       "    }\n",
       "\n",
       "    .dataframe thead th {\n",
       "        text-align: right;\n",
       "    }\n",
       "</style>\n",
       "<table border=\"1\" class=\"dataframe\">\n",
       "  <thead>\n",
       "    <tr style=\"text-align: right;\">\n",
       "      <th></th>\n",
       "      <th>IBM</th>\n",
       "      <th>Google</th>\n",
       "    </tr>\n",
       "  </thead>\n",
       "  <tbody>\n",
       "    <tr>\n",
       "      <th>2017-01-03</th>\n",
       "      <td>100</td>\n",
       "      <td>NaN</td>\n",
       "    </tr>\n",
       "    <tr>\n",
       "      <th>2017-01-04</th>\n",
       "      <td>200</td>\n",
       "      <td>180.0</td>\n",
       "    </tr>\n",
       "    <tr>\n",
       "      <th>2017-01-05</th>\n",
       "      <td>150</td>\n",
       "      <td>220.0</td>\n",
       "    </tr>\n",
       "  </tbody>\n",
       "</table>\n",
       "</div>"
      ],
      "text/plain": [
       "            IBM  Google\n",
       "2017-01-03  100     NaN\n",
       "2017-01-04  200   180.0\n",
       "2017-01-05  150   220.0"
      ]
     },
     "metadata": {},
     "output_type": "display_data"
    }
   ],
   "source": [
    "df_vol['Google'] = googl_volume\n",
    "\n",
    "display(df_vol)"
   ]
  },
  {
   "cell_type": "code",
   "execution_count": null,
   "id": "4ebac5820591f012",
   "metadata": {},
   "outputs": [],
   "source": []
  }
 ],
 "metadata": {
  "kernelspec": {
   "display_name": "Python 3 (ipykernel)",
   "language": "python",
   "name": "python3"
  },
  "language_info": {
   "codemirror_mode": {
    "name": "ipython",
    "version": 3
   },
   "file_extension": ".py",
   "mimetype": "text/x-python",
   "name": "python",
   "nbconvert_exporter": "python",
   "pygments_lexer": "ipython3",
   "version": "3.13.5"
  }
 },
 "nbformat": 4,
 "nbformat_minor": 5
}
